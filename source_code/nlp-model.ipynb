{
 "cells": [
  {
   "cell_type": "code",
   "execution_count": 1,
   "metadata": {
    "_uuid": "3047cc3e1c041aeca23574fefa7c6b3a2cefe4b6"
   },
   "outputs": [],
   "source": [
    "import pandas as pd\n",
    "import numpy as np\n",
    "\n",
    "data_path = '../input/nlp-pre-processing'\n",
    "X_train = np.load(f'{data_path}/X_train.npy')\n",
    "y_train = np.load(f'{data_path}/y_train.npy')\n",
    "X_test = np.load(f'{data_path}/X_test.npy')"
   ]
  },
  {
   "cell_type": "code",
   "execution_count": 2,
   "metadata": {
    "_uuid": "13e9d9fbfbc576cdb4938107c93a459653077d98",
    "scrolled": true
   },
   "outputs": [
    {
     "name": "stderr",
     "output_type": "stream",
     "text": [
      "Using TensorFlow backend.\n"
     ]
    }
   ],
   "source": [
    "from sklearn.model_selection import train_test_split\n",
    "from keras import Sequential, layers, callbacks\n",
    "\n",
    "# Xtr, Xval, ytr, yval = train_test_split(X_train, y_train, test_size=0.2)\n",
    "MODELS = dict()\n",
    "HISTORY = dict()"
   ]
  },
  {
   "cell_type": "markdown",
   "metadata": {
    "_uuid": "da9780e36ffd48737e720acf25e104669050e7c9"
   },
   "source": [
    "## Spacy Doc2Vec\n",
    "Actually just the mean of word vectors in a doc oops"
   ]
  },
  {
   "cell_type": "code",
   "execution_count": 3,
   "metadata": {
    "_uuid": "589705512b907f6d49de294fc747025bbb7537ec"
   },
   "outputs": [],
   "source": [
    "model = Sequential([\n",
    "    layers.Dense(1024, activation='relu'),\n",
    "    layers.Dropout(0.3),\n",
    "    layers.Dense(58, activation='softmax'),\n",
    "])\n",
    "\n",
    "model.compile(\n",
    "    optimizer = 'adam',\n",
    "    loss = 'categorical_crossentropy',\n",
    "    metrics = ['accuracy'],\n",
    ")\n",
    "\n",
    "MODELS['spacy_nlp'] = model"
   ]
  },
  {
   "cell_type": "code",
   "execution_count": 4,
   "metadata": {
    "_uuid": "589705512b907f6d49de294fc747025bbb7537ec"
   },
   "outputs": [
    {
     "name": "stdout",
     "output_type": "stream",
     "text": [
      "MODEL: spacy_nlp\n",
      "Train on 533292 samples, validate on 133323 samples\n",
      "Epoch 1/100\n",
      "533292/533292 [==============================] - 23s 42us/step - loss: 1.3838 - acc: 0.5881 - val_loss: 1.3052 - val_acc: 0.6600\n",
      "Epoch 2/100\n",
      "533292/533292 [==============================] - 21s 40us/step - loss: 1.2329 - acc: 0.6238 - val_loss: 1.1639 - val_acc: 0.6937\n",
      "Epoch 3/100\n",
      "533292/533292 [==============================] - 21s 40us/step - loss: 1.1923 - acc: 0.6342 - val_loss: 1.1094 - val_acc: 0.6979\n",
      "Epoch 4/100\n",
      "533292/533292 [==============================] - 22s 40us/step - loss: 1.1659 - acc: 0.6414 - val_loss: 1.1399 - val_acc: 0.7002\n",
      "Epoch 5/100\n",
      "533292/533292 [==============================] - 21s 40us/step - loss: 1.1481 - acc: 0.6457 - val_loss: 1.0842 - val_acc: 0.7071\n",
      "Epoch 6/100\n",
      "533292/533292 [==============================] - 21s 40us/step - loss: 1.1337 - acc: 0.6485 - val_loss: 1.1112 - val_acc: 0.6920\n",
      "Epoch 7/100\n",
      "533292/533292 [==============================] - 21s 40us/step - loss: 1.1213 - acc: 0.6517 - val_loss: 1.0778 - val_acc: 0.7152\n",
      "Epoch 8/100\n",
      "533292/533292 [==============================] - 21s 40us/step - loss: 1.1116 - acc: 0.6538 - val_loss: 1.0659 - val_acc: 0.7317\n",
      "Epoch 9/100\n",
      "533292/533292 [==============================] - 21s 40us/step - loss: 1.1015 - acc: 0.6560 - val_loss: 1.0590 - val_acc: 0.7259\n",
      "Epoch 10/100\n",
      "533292/533292 [==============================] - 22s 40us/step - loss: 1.0934 - acc: 0.6585 - val_loss: 1.0667 - val_acc: 0.7195\n",
      "Epoch 11/100\n",
      "533292/533292 [==============================] - 21s 40us/step - loss: 1.0857 - acc: 0.6597 - val_loss: 1.0749 - val_acc: 0.7229\n",
      "Epoch 12/100\n",
      "533292/533292 [==============================] - 22s 41us/step - loss: 1.0789 - acc: 0.6619 - val_loss: 1.1308 - val_acc: 0.7136\n",
      "Epoch 13/100\n",
      "533292/533292 [==============================] - 22s 41us/step - loss: 1.0739 - acc: 0.6625 - val_loss: 1.1156 - val_acc: 0.7176\n",
      "Epoch 14/100\n",
      "533292/533292 [==============================] - 22s 41us/step - loss: 1.0674 - acc: 0.6646 - val_loss: 1.1386 - val_acc: 0.7202\n"
     ]
    }
   ],
   "source": [
    "for name, model in MODELS.items():\n",
    "    print('MODEL:', name)\n",
    "    HISTORY[name] = model.fit(\n",
    "        X_train, y_train,\n",
    "        epochs = 100,\n",
    "        batch_size = 128,\n",
    "        validation_split = 0.2,\n",
    "        callbacks = [\n",
    "            callbacks.EarlyStopping(patience=5), \n",
    "            callbacks.ModelCheckpoint(name+'_best_weights.hdf5', save_weights_only=True, save_best_only=True)\n",
    "            ]\n",
    "        )"
   ]
  },
  {
   "cell_type": "code",
   "execution_count": 5,
   "metadata": {
    "_uuid": "16c97fac8c81a17bd96223d3df100c72b8caa3d8"
   },
   "outputs": [],
   "source": [
    "best_model = MODELS['spacy_nlp']\n",
    "best_model.load_weights('spacy_nlp_best_weights.hdf5')"
   ]
  },
  {
   "cell_type": "code",
   "execution_count": 6,
   "metadata": {
    "_uuid": "444c860a85321755372b7a7ff3fc096ba86381a6"
   },
   "outputs": [],
   "source": [
    "!cp ../input/ndsc-utils/ndsc_utils.py ndsc_utils.py\n",
    "from ndsc_utils import Extractor\n",
    "\n",
    "train = pd.read_csv('../input/ndsc-beginner/test.csv')\n",
    "itemid = Extractor()(train, 'itemid')\n",
    "categories = best_model.predict_classes(X_test)\n",
    "\n",
    "predictions = pd.DataFrame({\n",
    "    'itemid': itemid,\n",
    "    'Category': categories,\n",
    "})\n",
    "\n",
    "predictions.to_csv('nlp_transfer_learning.csv', index=False)"
   ]
  }
 ],
 "metadata": {
  "kernelspec": {
   "display_name": "Python 3",
   "language": "python",
   "name": "python3"
  },
  "language_info": {
   "codemirror_mode": {
    "name": "ipython",
    "version": 3
   },
   "file_extension": ".py",
   "mimetype": "text/x-python",
   "name": "python",
   "nbconvert_exporter": "python",
   "pygments_lexer": "ipython3",
   "version": "3.6.6"
  }
 },
 "nbformat": 4,
 "nbformat_minor": 1
}
