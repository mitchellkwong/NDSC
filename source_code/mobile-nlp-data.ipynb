{
 "cells": [
  {
   "cell_type": "code",
   "execution_count": 1,
   "metadata": {
    "_cell_guid": "b1076dfc-b9ad-4769-8c92-a6c4dae69d19",
    "_uuid": "8f2839f25d086af736a60e9eeb907d3b93b6e0e5"
   },
   "outputs": [
    {
     "name": "stdout",
     "output_type": "stream",
     "text": [
      "['data_info_val_sample_submission.csv', 'categories.json', 'train.csv', 'test.csv']\n"
     ]
    }
   ],
   "source": [
    "import numpy as np # linear algebra\n",
    "import pandas as pd # data processing, CSV file I/O (e.g. pd.read_csv)\n",
    "\n",
    "import os\n",
    "print(os.listdir(\"../input\"))\n",
    "\n",
    "# Any results you write to the current directory are saved as output."
   ]
  },
  {
   "cell_type": "code",
   "execution_count": 2,
   "metadata": {
    "_cell_guid": "79c7e3d0-c299-4dcb-8224-4455121ee9b0",
    "_uuid": "d629ff2d2480ee46fbb7e2d37f6b5fab8052498a"
   },
   "outputs": [],
   "source": [
    "from sklearn.preprocessing import label_binarize\n",
    "import spacy\n",
    "\n",
    "def get_docvec(docs):\n",
    "    nlp = spacy.load('en')\n",
    "    docvec = np.vstack([nlp(doc).vector for doc in docs])\n",
    "    return docvec\n",
    "\n",
    "train = pd.read_csv('../input/train.csv')\n",
    "mobile_train = train[train.image_path.str.contains('mobile')]\n",
    "\n",
    "test = pd.read_csv('../input/test.csv')\n",
    "mobile_test = test[test.image_path.str.contains('mobile')]\n",
    "\n",
    "meta = pd.read_json('../input/categories.json')\n",
    "classes = meta.Mobile.dropna().unique()\n",
    "\n",
    "X_train = get_docvec(mobile_train.title)\n",
    "X_test = get_docvec(mobile_test.title)\n",
    "\n",
    "y_train = label_binarize(mobile_train.Category, classes = classes)\n",
    "\n",
    "np.save('X_train.npy', X_train)\n",
    "np.save('X_test.npy', X_test)\n",
    "np.save('y_train.npy', y_train)"
   ]
  }
 ],
 "metadata": {
  "kernelspec": {
   "display_name": "Python 3",
   "language": "python",
   "name": "python3"
  },
  "language_info": {
   "codemirror_mode": {
    "name": "ipython",
    "version": 3
   },
   "file_extension": ".py",
   "mimetype": "text/x-python",
   "name": "python",
   "nbconvert_exporter": "python",
   "pygments_lexer": "ipython3",
   "version": "3.6.6"
  }
 },
 "nbformat": 4,
 "nbformat_minor": 1
}
